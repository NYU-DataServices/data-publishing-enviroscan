{
 "cells": [
  {
   "cell_type": "code",
   "execution_count": null,
   "metadata": {},
   "outputs": [],
   "source": [
    "import requests"
   ]
  },
  {
   "cell_type": "code",
   "execution_count": null,
   "metadata": {},
   "outputs": [],
   "source": [
    "# GraphQL query obtained from SHARE website, with __ID__ placeholder\n",
    "query_template = '''\\\n",
    "query {\n",
    "                    shareObject(id: \"__ID__\") {\n",
    "                        id,\n",
    "                        type: __typename,\n",
    "                        types,\n",
    "                        extra,\n",
    "                        sources { id, title, icon },\n",
    "\n",
    "                        ...on AbstractCreativeWork {\n",
    "      title,\n",
    "      description,\n",
    "\n",
    "      tags { name },\n",
    "      identifiers { scheme, host, uri },\n",
    "\n",
    "      \n",
    "          relatedAgents(offset:0) {\n",
    "            type: __typename,\n",
    "            citedAs,\n",
    "            agent { id, type: __typename, name }\n",
    "          }\n",
    "        ,\n",
    "      \n",
    "          incomingWorkRelations(offset:0) {\n",
    "            type: __typename\n",
    "            subject { id, type: __typename, title }\n",
    "          }\n",
    "        ,\n",
    "      \n",
    "          outgoingWorkRelations(offset:0) {\n",
    "            type: __typename\n",
    "            related { id, type: __typename, title }\n",
    "          }\n",
    "        ,\n",
    "    }\n",
    "...on AbstractAgent {\n",
    "      name,\n",
    "      identifiers { scheme, host, uri },\n",
    "      totalRelatedWorks,\n",
    "      \n",
    "          relatedWorks(offset:0) {\n",
    "            type: __typename\n",
    "            creativeWork { id, type: __typename, title }\n",
    "          }\n",
    "        ,\n",
    "      \n",
    "          outgoingAgentRelations(offset:0) {\n",
    "            type: __typename\n",
    "            related { id, type: __typename, name }\n",
    "          }\n",
    "        ,\n",
    "    }\n",
    "                    }\n",
    "}\n",
    "'''"
   ]
  },
  {
   "cell_type": "code",
   "execution_count": null,
   "metadata": {},
   "outputs": [],
   "source": [
    "ids = []\n",
    "with open('urls.txt') as inputfile:\n",
    "    for line in inputfile:\n",
    "        ids.append(line.strip().split(','))"
   ]
  },
  {
   "cell_type": "code",
   "execution_count": null,
   "metadata": {},
   "outputs": [],
   "source": [
    "# loop through IDs\n",
    "\n",
    "for x in ids:\n",
    "    query = query_template.replace('__ID__', x[0])\n",
    "    response = requests.post('https://share.osf.io/api/v2/graph/',params={'query': query})\n",
    "    print(response.json())"
   ]
  },
  {
   "cell_type": "code",
   "execution_count": null,
   "metadata": {},
   "outputs": [],
   "source": []
  }
 ],
 "metadata": {
  "kernelspec": {
   "display_name": "Python 3",
   "language": "python",
   "name": "python3"
  },
  "language_info": {
   "codemirror_mode": {
    "name": "ipython",
    "version": 3
   },
   "file_extension": ".py",
   "mimetype": "text/x-python",
   "name": "python",
   "nbconvert_exporter": "python",
   "pygments_lexer": "ipython3",
   "version": "3.6.5"
  }
 },
 "nbformat": 4,
 "nbformat_minor": 2
}
